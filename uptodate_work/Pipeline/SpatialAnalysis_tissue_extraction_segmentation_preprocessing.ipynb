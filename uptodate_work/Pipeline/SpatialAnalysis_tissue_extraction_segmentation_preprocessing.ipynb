{
 "cells": [
  {
   "cell_type": "markdown",
   "id": "e7677eda-7564-4943-8a2c-85fb883c9745",
   "metadata": {},
   "source": [
    "# 1. Fusion Tissue Extraction"
   ]
  },
  {
   "cell_type": "code",
   "execution_count": null,
   "id": "7c3092c9-8698-489e-991c-e0b3ef4228f7",
   "metadata": {},
   "outputs": [],
   "source": [
    "#libraries needed for this section\n",
    "\n",
    "import tifffile\n",
    "import matplotlib.pyplot as plt\n",
    "import numpy as np\n",
    "import pandas as pd\n",
    "import os\n",
    "from skimage.segmentation import watershed\n",
    "from skimage.transform import rescale, resize, downscale_local_mean\n",
    "from scipy import ndimage as ndi\n",
    "from skimage.filters import sobel\n",
    "from sklearn.cluster import AgglomerativeClustering"
   ]
  },
  {
   "cell_type": "markdown",
   "id": "904e1587-9552-4426-a686-14317e7b2e51",
   "metadata": {},
   "source": [
    "### Loading the data"
   ]
  },
  {
   "cell_type": "code",
   "execution_count": null,
   "id": "f2f440d5-9740-4cf9-a583-522dd01ec1e8",
   "metadata": {},
   "outputs": [],
   "source": [
    "#where the output file from fusion is stored\n",
    "qptiff_path = 'Z:/Yuqi/22_10_CODEX_Datasets/22_10_11_ST_56/11_10_22_ST_Scan1.qptiff' \n",
    "save_path = 'Z:/Yuqi/22_10_CODEX_Datasets/22_10_11_ST_56/'"
   ]
  },
  {
   "cell_type": "code",
   "execution_count": null,
   "id": "77beb3f5-932d-4c92-a75f-b3ec77016a96",
   "metadata": {},
   "outputs": [],
   "source": [
    "#some tunable meta parameters\n",
    "downscale_factor = 64\n",
    "sigma = 5.0\n",
    "DNAslice = 0 #DNA channel for visualization/segmentation\n",
    "padding = 50\n",
    "expected_number_tissues = 2\n",
    "lower_cutoff = 0.02\n",
    "upper_cutoff = 0.07"
   ]
  },
  {
   "cell_type": "code",
   "execution_count": null,
   "id": "4e69744d-fe1a-477d-8769-6548fc7ebf48",
   "metadata": {},
   "outputs": [],
   "source": [
    "#make sure the directory for saving data exists\n",
    "if not os.path.exists(save_path):\n",
    "    os.makedirs(save_path)\n",
    "\n",
    "#read in the qptiff file\n",
    "currim = tifffile.imread(qptiff_path) #if this file is too big, delete it after the next line of code and re-read it later\n",
    "\n",
    "#select for the nuclei channel image\n",
    "nucim = currim[DNAslice].copy()\n",
    "\n",
    "#visualize the nuclei channel\n",
    "plt.imshow(nucim)\n",
    "plt.title('Nuclear image')\n",
    "plt.show()\n",
    "\n",
    "print(f'Loaded nuclear image of dimension (Y,X) = {nucim.shape}')\n",
    "\n",
    "#visualize the nuclei channel after resizing the image\n",
    "resized_im = resize(nucim, (nucim.shape[0] // downscale_factor, nucim.shape[1] // downscale_factor), anti_aliasing=True)\n",
    "resized_im = ndi.gaussian_filter(resized_im, sigma = sigma)\n",
    "plt.hist(resized_im)\n",
    "plt.title('Marker expression level histogram')\n",
    "plt.show()"
   ]
  },
  {
   "cell_type": "code",
   "execution_count": null,
   "id": "1764064a-8768-44e9-83b2-9d6bb287a600",
   "metadata": {},
   "outputs": [],
   "source": [
    "elevation_map = sobel(resized_im)\n",
    "markers = np.zeros_like(resized_im)\n",
    "markers[resized_im <= lower_cutoff] = 1\n",
    "markers[resized_im >= upper_cutoff] = 2\n",
    "\n",
    "segmentation = watershed(elevation_map, markers)\n",
    "plt.imshow(segmentation)\n",
    "plt.title('Segmented tissues')\n",
    "plt.show()\n",
    "\n",
    "segmentation = ndi.binary_fill_holes(segmentation - 1)\n",
    "plt.imshow(segmentation)\n",
    "plt.title('Segmented tissues with holes filled')\n",
    "plt.show()\n",
    "\n",
    "#visualize initial identified segmented masks\n",
    "labeled_tissues, _ = ndi.label(segmentation)\n",
    "print(f'Identified {len(np.unique(labeled_tissues)) - 1} tissue pieces')\n",
    "plt.imshow(labeled_tissues)\n",
    "plt.title('Labeled tissues')\n",
    "plt.show()\n",
    "\n",
    "#######Non clustering option\n",
    "idx = np.nonzero(labeled_tissues)\n",
    "vals = labeled_tissues[idx]\n",
    "tissueframe = pd.DataFrame(vals, columns = ['tissue'])\n",
    "tissueframe['y'] = idx[0]\n",
    "tissueframe['x'] = idx[1]\n",
    "\n",
    "tissueframe['region1']=tissueframe['tissue']\n",
    "tissueframe\n",
    "####Clustering Option\n",
    "#print(f'Running agglomerative clustering to assign {len(np.unique(labeled_tissues)) - 1} tissue pieces to {expected_number_tissues} tissue regions')\n",
    "\n",
    "# maskarr = tissueframe[['y', 'x']].to_numpy()\n",
    "# clustering = AgglomerativeClustering(n_clusters = expected_number_tissues).fit(maskarr)\n",
    "# tissueframe['region'] = clustering.labels_ + 1\n",
    "\n",
    "# labeled_tissues2 = labeled_tissues\n",
    "# labeled_tissues2[idx] = clustering.labels_ + 1\n",
    "# plt.imshow(labeled_tissues2)\n",
    "# plt.title('Final tissue masks')\n",
    "# plt.show()"
   ]
  },
  {
   "cell_type": "markdown",
   "id": "8fdc3c58-2b23-499c-acd3-dd088bb9b7a8",
   "metadata": {},
   "source": [
    "Optional: manually clean up automatic tissue region assignments. A tissue region often consists of multiple pieces of tissue that are not connected. Occasionally, the above algorithm will assign a piece of tissue to the incorrect region. The next two cells allow the user to manually correct such region mislabelings. \n",
    "\n",
    "Running the first cell generates two plots. The first plot shows the tissue piece labels. The second plot shows the final region assignments for the tissue pieces. These two plots can be used to identify the ID of the tissue piece you want to reassign and the region ID you want to assign it to. \n",
    "\n",
    "The second cell takes two parameters:\n",
    "\n",
    "tissue_id - (int) this is the tissue ID of the piece of tissue you want to reassign\n",
    "\n",
    "new_region_id - (int) this is the ID of the new region you want to assign this tissue piece to\n",
    "\n",
    "Running the second cell relabels the region assignment of the specified tissue piece."
   ]
  },
  {
   "cell_type": "code",
   "execution_count": null,
   "id": "741469ec-05ab-4acc-87df-0ef4c5b1a966",
   "metadata": {},
   "outputs": [],
   "source": [
    "centroids = tissueframe.groupby('tissue').mean()\n",
    "fig, ax = plt.subplots()\n",
    "ax.scatter(centroids['x'], centroids['y'])\n",
    "ax.invert_yaxis()\n",
    "plt.gca().set_aspect('equal', adjustable='box')\n",
    "\n",
    "for i, txt in enumerate(centroids.index):\n",
    "    ax.annotate(txt, (list(centroids['x'])[i], list(centroids['y'])[i]))\n",
    "\n",
    "plt.title('Tissue piece labels')\n",
    "plt.show()\n",
    "\n",
    "fig, ax = plt.subplots()\n",
    "ax.scatter(centroids['x'], centroids['y'])\n",
    "ax.invert_yaxis()\n",
    "plt.gca().set_aspect('equal', adjustable='box')\n",
    "\n",
    "for i, txt in enumerate(centroids['region1']):\n",
    "    ax.annotate(int(txt), (list(centroids['x'])[i], list(centroids['y'])[i]))\n",
    "\n",
    "plt.title('Region labels')\n",
    "plt.show()"
   ]
  },
  {
   "cell_type": "code",
   "execution_count": null,
   "id": "47dd92b1-381b-49a1-a086-997c7b64d952",
   "metadata": {},
   "outputs": [],
   "source": [
    "#Rename the regions based on annotations\n",
    "rename_dict = {1:1, 2:1, 3:1, 5:2}\n",
    "\n",
    "for k in rename_dict.keys():\n",
    "    tissueframe['region1'][tissueframe['tissue'] == k] = rename_dict[k]\n",
    "    \n",
    "#rename so ordered 1 through 8\n",
    "tiss_num = {list(tissueframe['region1'].unique())[i]:i+1 for i in range(len(tissueframe['region1'].unique()))}\n",
    "tissueframe['region']= tissueframe['region1'].map(tiss_num)\n",
    "tiss_num"
   ]
  },
  {
   "cell_type": "code",
   "execution_count": null,
   "id": "c57152a2-28a6-4e33-9caa-d26ab4c09cd9",
   "metadata": {},
   "outputs": [],
   "source": [
    "#optional: remove artifacts detected\n",
    "tissueframe = tissueframe[tissueframe['region'].isin([1,2])]"
   ]
  },
  {
   "cell_type": "code",
   "execution_count": null,
   "id": "ff26e561-0050-48b5-98a3-0248a96229b9",
   "metadata": {},
   "outputs": [],
   "source": [
    "centroids = tissueframe.groupby('tissue').mean()\n",
    "fig, ax = plt.subplots()\n",
    "ax.scatter(centroids['x'], centroids['y'])\n",
    "ax.invert_yaxis()\n",
    "plt.gca().set_aspect('equal', adjustable='box')\n",
    "\n",
    "for i, txt in enumerate(centroids.index):\n",
    "    ax.annotate(txt, (list(centroids['x'])[i], list(centroids['y'])[i]))\n",
    "\n",
    "plt.title('Tissue piece labels')\n",
    "plt.show()\n",
    "\n",
    "fig, ax = plt.subplots()\n",
    "ax.scatter(centroids['x'], centroids['y'])\n",
    "ax.invert_yaxis()\n",
    "plt.gca().set_aspect('equal', adjustable='box')\n",
    "\n",
    "for i, txt in enumerate(centroids['region']):\n",
    "    ax.annotate(int(txt), (list(centroids['x'])[i], list(centroids['y'])[i]))\n",
    "\n",
    "plt.title('Region labels')\n",
    "plt.show()"
   ]
  },
  {
   "cell_type": "markdown",
   "id": "517bedf9-0038-4b89-a653-888e0d9f9c1d",
   "metadata": {},
   "source": [
    "Run the next cell to extract labeled tissues into subimages and save each subimage as its own tiffstack"
   ]
  },
  {
   "cell_type": "code",
   "execution_count": null,
   "id": "f8128589-1f18-4609-a6f4-aed4486f5e48",
   "metadata": {},
   "outputs": [],
   "source": [
    "#read back in currim here if it was too big and needed to be deleted in the first place\n",
    "#currim = tifffile.imread(path)\n",
    "\n",
    "tissueframe2 = tissueframe.groupby('region').agg([min, max])\n",
    "\n",
    "for index, row in tissueframe2.iterrows():\n",
    "    ymin = row['y']['min'] * downscale_factor\n",
    "    ymax = row['y']['max'] * downscale_factor\n",
    "    xmin = row['x']['min'] * downscale_factor\n",
    "    xmax = row['x']['max'] * downscale_factor\n",
    "    ymin = max(ymin - padding, 0)\n",
    "    ymax = min(ymax + padding, currim.shape[1])\n",
    "    xmin = max(xmin - padding, 0)\n",
    "    xmax = min(xmax + padding, currim.shape[2])\n",
    "    subim = currim[:, ymin:ymax, xmin:xmax]\n",
    "    outpath = os.path.join(savepath, f'reg00{index}_X01_Y01_Z01.tif')\n",
    "    plt.imshow(subim[0])\n",
    "    plt.title(f'Extracting tissue {index}: ')\n",
    "    plt.show()\n",
    "    print(f'Saving tissue image at {outpath}')\n",
    "    tifffile.imwrite(outpath, subim)"
   ]
  },
  {
   "cell_type": "markdown",
   "id": "da07dae8-ab05-4d1a-be47-7078cb1503d8",
   "metadata": {},
   "source": [
    "# 2. Cell segmentation"
   ]
  },
  {
   "cell_type": "code",
   "execution_count": null,
   "id": "0884682c-6b94-4299-8ce4-2c675b719260",
   "metadata": {},
   "outputs": [],
   "source": [
    "from multiprocessing import Process\n",
    "import os\n",
    "import sys\n",
    "from main import main\n",
    "from glob import glob"
   ]
  },
  {
   "cell_type": "code",
   "execution_count": null,
   "id": "ec7e28f0-0204-4e1d-a3dc-b23d24f8542c",
   "metadata": {},
   "outputs": [],
   "source": [
    "output_path = 'G:/Fusion/Mouse/22_10_11_ST_56'\n",
    "output_path2 = 'G:/Fusion/Mouse/22_10_18_ST_4_1_7'"
   ]
  },
  {
   "cell_type": "code",
   "execution_count": null,
   "id": "0f18eebd-3776-4039-a89b-fa90b758ebcf",
   "metadata": {},
   "outputs": [],
   "source": [
    "#need to change output path\n",
    "%run run_cellvision.py"
   ]
  },
  {
   "cell_type": "markdown",
   "id": "68c71df2-efb1-4eb0-a7b0-267ff9782243",
   "metadata": {},
   "source": [
    "# 3. Basic Image Preprocessing"
   ]
  },
  {
   "cell_type": "code",
   "execution_count": null,
   "id": "217d0254-a6a4-4622-a6e5-db10da22455c",
   "metadata": {},
   "outputs": [],
   "source": [
    "from preprocessing import *"
   ]
  },
  {
   "cell_type": "code",
   "execution_count": null,
   "id": "6386fa28-e47b-405c-a6e7-509fa84cfea7",
   "metadata": {},
   "outputs": [],
   "source": [
    "df_56 = read_data(path='../22_10_11_ST_56/CVcol_DAPI_3px/fcs/compensated/',\\\n",
    "               reg_list=[], nuc_1 = 1)\n",
    "df_17 = read_data(path='../22_10_18_ST_4_1_7/CVcol_DAPI_3px/fcs/compensated/',\\\n",
    "               reg_list=[], nuc_1 = 1)"
   ]
  },
  {
   "cell_type": "code",
   "execution_count": null,
   "id": "6edb3419",
   "metadata": {},
   "outputs": [],
   "source": [
    "# Z normalization\n",
    "dfz_17 = z_format(data=df_17, list_out=['first_index', 'cell_id','tile_num','z', 'x_tile',\n",
    "       'y_tile', 'size','DAPI'],\n",
    "        list_keep = ['region','x','y','region_num',])\n",
    "\n",
    "dfz_56 = z_format(data=df_56, list_out=['first_index', 'cell_id','tile_num','z', 'x_tile',\n",
    "       'y_tile', 'size','DAPI'],\n",
    "        list_keep = ['region','x','y','region_num',])"
   ]
  },
  {
   "cell_type": "code",
   "execution_count": null,
   "id": "263c1583",
   "metadata": {},
   "outputs": [],
   "source": [
    "# XY correlation\n",
    "df_cor_17 = xycorr(data=dfz_17, y_rows=2, x_columns=1, X_pix=20000, Y_pix=23000)\n",
    "df_cor_56 = xycorr(data=dfz_56, y_rows=2, x_columns=1, X_pix=13000, Y_pix=11000)\n",
    "df_cor_17['array'] = 'samples_17' \n",
    "df_cor_56['array'] = 'samples_56'"
   ]
  },
  {
   "cell_type": "code",
   "execution_count": null,
   "id": "25b66abc",
   "metadata": {},
   "outputs": [],
   "source": [
    "#remove noise\n",
    "df_nn_56,cc_56 = remove_noise(df=df_cor_56, col_num=48, z_sum_thres=38, z_count_thres=38)\n",
    "df_nn_17,cc_17 = remove_noise(df=df_cor_17, col_num=48, z_sum_thres=38, z_count_thres=38)"
   ]
  },
  {
   "cell_type": "markdown",
   "id": "f0811ada-591d-4efc-b20a-c894e2822439",
   "metadata": {},
   "source": [
    "# 4. Cell type classification"
   ]
  },
  {
   "cell_type": "code",
   "execution_count": null,
   "id": "02f9807b-87d5-4273-8b11-05d7dcd13242",
   "metadata": {},
   "outputs": [],
   "source": [
    "from classification import *"
   ]
  },
  {
   "cell_type": "code",
   "execution_count": null,
   "id": "241118fa-6ec4-42c5-ab8c-7cc7b5320454",
   "metadata": {},
   "outputs": [],
   "source": [
    "df_train_full = pd.read_csv(\"../training_data/Day135_Markers_Dryad.csv\", index_col=0)\n",
    "df_codex_56 = pd.read_csv(\"../22_10_11_ST_56/result/df_nn_56_111822.csv\", index_col=0)\n",
    "df_codex_17 = pd.read_csv(\"../22_10_18_ST_4_1_7/result/df_nn_17_111822.csv\", index_col = 0)"
   ]
  },
  {
   "cell_type": "code",
   "execution_count": null,
   "id": "5dfa5c7c",
   "metadata": {},
   "outputs": [],
   "source": [
    "celltype_dict = {\n",
    "    'Tumor PDL1+ MHCI+':'Tumor',\n",
    "    'CD8+ T cell PD1+':'CD8+ T cell',\n",
    "    'Tumor': 'Tumor',\n",
    "    'DC':'DC',\n",
    "    'DC TCF7+':'DC',\n",
    "    'Epithelial':'Epithelial',\n",
    "    'Endothelial':'Endothelial',\n",
    "    'Macrophage':'Macrophage',\n",
    "    'Tumor Ki67+': 'Tumor',\n",
    "    'CD8+ T cell': 'CD8+ T cell',\n",
    "    'CD4+ Treg':'CD4+ Treg',\n",
    "    'Neutrophil':'Neutrophil',\n",
    "    'NK':'NK',\n",
    "    'Macrophage PDL1+':'Macrophage',\n",
    "    'APC MHCIIhi':'APC MHCIIhi',\n",
    "    'Macrophage CD86+':'Macrophage',\n",
    "    'Lymphatic':'Lymphatic',\n",
    "    'CD8+ T cell PD1+': 'CD8+ T cell',\n",
    "    'CD4+ T cell':'CD4+ T cell',\n",
    "    'DC TCF7+':'DC',\n",
    "    'B cell':'B cell'\n",
    "}"
   ]
  },
  {
   "cell_type": "code",
   "execution_count": null,
   "id": "04a2de35-0edd-466f-b0f8-7ae3a3a74326",
   "metadata": {},
   "outputs": [],
   "source": [
    "df_train_full['celltype_merge'] = df_train_full['Cell common'].map(celltype_dict)"
   ]
  },
  {
   "cell_type": "markdown",
   "id": "7b7df702-4b70-4d60-8c62-63daed6152ca",
   "metadata": {},
   "source": [
    "## 4.1 Train a XGB classifier"
   ]
  },
  {
   "cell_type": "code",
   "execution_count": null,
   "id": "34e4d481-736b-49cd-b9ad-307c10d4a23f",
   "metadata": {},
   "outputs": [],
   "source": [
    "clf_xgb, X_train, y_train, X_test, y_test, label = xgb_codex_train(df= df_train_full, df_val = df_codex_17, col = 'celltype_merge', n_cells =200, ind_features=40)"
   ]
  },
  {
   "cell_type": "markdown",
   "id": "9cd42afa-c2fb-44c9-9110-9d5c34d087e0",
   "metadata": {},
   "source": [
    "## 4.2 Predict cell type annotation"
   ]
  },
  {
   "cell_type": "code",
   "execution_count": null,
   "id": "623d482c-1c0a-48ac-a43c-78324fa56fc6",
   "metadata": {},
   "outputs": [],
   "source": [
    "y_codex_56 = xgb_codex_predict(df = df_codex_56, clf_xgb=clf_xgb, label=label)\n",
    "y_codex_17 = xgb_codex_predict(df = df_codex_17, clf_xgb=clf_xgb, label=label)"
   ]
  },
  {
   "cell_type": "markdown",
   "id": "cf58c4ad-33e9-4592-b0b6-ccd7c0ddc193",
   "metadata": {},
   "source": [
    "# 5. Cell Type Composition"
   ]
  },
  {
   "cell_type": "code",
   "execution_count": null,
   "id": "027ff2cd-c029-48a5-9ead-3579a922999c",
   "metadata": {},
   "outputs": [],
   "source": [
    "import statsmodels.api as sm\n",
    "import numpy as np\n",
    "import pandas as pd\n",
    "from matplotlib import pyplot as plt\n",
    "import seaborn as sns"
   ]
  },
  {
   "cell_type": "code",
   "execution_count": null,
   "id": "2bb1c791-01bd-4f09-9497-d3105a562ff5",
   "metadata": {},
   "outputs": [],
   "source": []
  }
 ],
 "metadata": {
  "kernelspec": {
   "display_name": "Python 3 (ipykernel)",
   "language": "python",
   "name": "python3"
  },
  "language_info": {
   "codemirror_mode": {
    "name": "ipython",
    "version": 3
   },
   "file_extension": ".py",
   "mimetype": "text/x-python",
   "name": "python",
   "nbconvert_exporter": "python",
   "pygments_lexer": "ipython3",
   "version": "3.9.7"
  }
 },
 "nbformat": 4,
 "nbformat_minor": 5
}
