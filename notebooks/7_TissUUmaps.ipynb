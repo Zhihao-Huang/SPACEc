{
 "cells": [
  {
   "cell_type": "markdown",
   "metadata": {},
   "source": [
    "# Install TissUUmaps"
   ]
  },
  {
   "cell_type": "code",
   "execution_count": 1,
   "metadata": {},
   "outputs": [],
   "source": [
    "# Create a conda environment with TissUUmaps installed or update an your existing environment\n",
    "\n",
    "# conda create -y -n tissuumaps_env -c conda-forge python=3.9\n",
    "# conda activate tissuumaps_env\n",
    "# conda install -c conda-forge libvips pyvips openslide-python\n",
    "# pip install \"TissUUmaps[full]\" # this step seems to need to do within jupyter notebook for it to work"
   ]
  },
  {
   "cell_type": "markdown",
   "metadata": {},
   "source": [
    "## Using TissUUmaps within Jupyter notebook\n",
    "Interactive visualization via TissUUmaps might be informative during multiple steps of the analysis. Apart from the general function provided with the TissUUmaps Python package, we provide specific functions that automatically phrase the input during multiple steps of the analysis."
   ]
  },
  {
   "cell_type": "code",
   "execution_count": 2,
   "metadata": {},
   "outputs": [],
   "source": [
    "from skimage.segmentation import find_boundaries\n",
    "\n",
    "def masks_to_outlines_scikit_image(masks):\n",
    "    \"\"\" get outlines of masks as a 0-1 array \n",
    "    \n",
    "    Parameters\n",
    "    ----------------\n",
    "\n",
    "    masks: int, 2D or 3D array \n",
    "        size [Ly x Lx] or [Lz x Ly x Lx], 0=NO masks; 1,2,...=mask labels\n",
    "\n",
    "    Returns\n",
    "    ----------------\n",
    "\n",
    "    outlines: 2D or 3D array \n",
    "        size [Ly x Lx] or [Lz x Ly x Lx], True pixels are outlines\n",
    "\n",
    "    \"\"\"\n",
    "    if masks.ndim > 3 or masks.ndim < 2:\n",
    "        raise ValueError('masks_to_outlines takes 2D or 3D array, not %dD array'%masks.ndim)\n",
    "    \n",
    "    if masks.ndim==3:\n",
    "        outlines = np.zeros(masks.shape, bool)\n",
    "        for i in range(masks.shape[0]):\n",
    "            outlines[i] = find_boundaries(masks[i], mode='inner')\n",
    "        return outlines\n",
    "    else:\n",
    "        return find_boundaries(masks, mode='inner')"
   ]
  },
  {
   "cell_type": "code",
   "execution_count": 4,
   "metadata": {},
   "outputs": [
    {
     "name": "stderr",
     "output_type": "stream",
     "text": [
      "INFO:root: * TissUUmaps version: 3.2.0.3\n"
     ]
    }
   ],
   "source": [
    "import os\n",
    "import pickle\n",
    "#import tissuumaps\n",
    "import tissuumaps.jupyter as tj\n",
    "from skimage.io import imsave\n",
    "import numpy as np\n",
    "import pathlib\n",
    "\n",
    "def tm_prepare_input(\n",
    "        adata,\n",
    "        images_pickle_path,\n",
    "        directory,\n",
    "        region_column = \"unique_region\",\n",
    "        region = \"\",\n",
    "        xSelector = \"x\",\n",
    "        ySelector = \"y\",\n",
    "        color_by = \"celltype_fine\",\n",
    "        keep_list = None,\n",
    "        include_masks = True,\n",
    "        open_viewer = True, \n",
    "        add_UMAP = True):\n",
    "    \n",
    "    segmented_matrix = adata.obs\n",
    "    \n",
    "    with open(images_pickle_path, 'rb') as f:\n",
    "        seg_output = pickle.load(f)\n",
    "    \n",
    "    image_dict = seg_output['image_dict']\n",
    "    masks = seg_output['masks']\n",
    "    \n",
    "    if keep_list == None:\n",
    "        keep_list = [region_column, xSelector, ySelector, color_by]\n",
    "        \n",
    "    print(\"Preparing TissUUmaps input...\")\n",
    "    \n",
    "    cache_dir = pathlib.Path(directory) / region\n",
    "    cache_dir.mkdir(parents=True, exist_ok=True)\n",
    "\n",
    "    # only keep columns in keep_list\n",
    "    segmented_matrix = segmented_matrix[keep_list]\n",
    "    \n",
    "    if add_UMAP == True:\n",
    "        # add UMAP coordinates to segmented_matrix\n",
    "        segmented_matrix['UMAP_1'] = adata.obsm['X_umap'][:, 0]\n",
    "        segmented_matrix['UMAP_2'] = adata.obsm['X_umap'][:, 1]\n",
    "\n",
    "    csv_paths = []\n",
    "    # separate matrix by region and save every region as single csv file  \n",
    "    region_matrix = segmented_matrix.loc[segmented_matrix[region_column] == region]\n",
    "        \n",
    "    region_matrix.to_csv(cache_dir / (region + '.csv'))\n",
    "    csv_paths.append(cache_dir / (region + '.csv'))\n",
    "        \n",
    "    # generate subdirectory for images\n",
    "    image_dir = cache_dir / 'images'\n",
    "    image_dir.mkdir(parents=True, exist_ok=True)\n",
    "\n",
    "    image_list = [] \n",
    "    # save every image as tif file in image directory from image_dict. name by key in image_dict\n",
    "    for key, image in image_dict.items():\n",
    "        file_path = os.path.join(image_dir, f'{key}.tif')\n",
    "        imsave(file_path, image, check_contrast=False)\n",
    "        image_list.append(file_path)\n",
    "\n",
    "    if include_masks == True:\n",
    "        \n",
    "        # select first item from image_dict as reference image\n",
    "        reference_image = list(image_dict.values())[0]\n",
    "\n",
    "        # make reference image black by setting all values to 0\n",
    "        reference_image = np.zeros_like(reference_image)\n",
    "\n",
    "        # make the reference image rgb. Add empty channels\n",
    "        if len(reference_image.shape) == 2:\n",
    "            reference_image = np.expand_dims(reference_image, axis=-1)\n",
    "            reference_image = np.repeat(reference_image, 3, axis=-1)\n",
    "\n",
    "        # remove last dimension from masks\n",
    "        masks_3d = np.squeeze(masks)\n",
    "        outlines = masks_to_outlines_scikit_image(masks_3d)\n",
    "\n",
    "        reference_image[outlines == True] = [255, 0, 0]\n",
    "\n",
    "        file_path = os.path.join(image_dir, 'masks.jpg')\n",
    "\n",
    "        # save black pixel as transparent\n",
    "        reference_image = reference_image.astype(np.uint8)\n",
    "\n",
    "        imsave(file_path, reference_image)\n",
    "        image_list.append(file_path)\n",
    "        \n",
    "    if open_viewer == True:\n",
    "        print(\"Opening TissUUmaps viewer...\")\n",
    "        tj.loaddata(\n",
    "            images=image_list,\n",
    "            csvFiles=[str(p) for p in csv_paths], \n",
    "            xSelector=xSelector, \n",
    "            ySelector=ySelector, \n",
    "            keySelector=color_by, \n",
    "            nameSelector=color_by, \n",
    "            colorSelector=color_by, \n",
    "            piechartSelector=None, \n",
    "            shapeSelector=None, \n",
    "            scaleSelector=None, \n",
    "            fixedShape=None, \n",
    "            scaleFactor=1, \n",
    "            colormap=None, \n",
    "            compositeMode='source-over', \n",
    "            boundingBox=None, \n",
    "            port=5100, \n",
    "            host='localhost', \n",
    "            height=900, \n",
    "            tmapFilename=region + '_project', \n",
    "            plugins=[\"Plot_Histogram\", \"Points2Regions\", \"Spot_Inspector\", \"Feature_Space\", \"ClassQC\"])\n",
    "    \n",
    "    return image_list, csv_paths"
   ]
  },
  {
   "cell_type": "markdown",
   "metadata": {},
   "source": [
    "# Instructions:\n",
    "\n",
    "To use the TissUUmaps viewer you need:\n",
    "- A working env with TissUUmaps installed\n",
    "- A pickle file that contains the segmentation output and images \n",
    "- An AnnData object containing the currently used single cell data\n",
    "\n",
    "The *tm_prepare_input* function reads the named content for one region. For that, the user has to provide a region column and a region name. The pickle file has to match the specified region. \n",
    "The function creates a folder that contains all necessary input files that are needed to launch the TissUUmaps session. Additionally, the function can launch the TissUUmaps session. If the session is launched from the function a tmap file is created in the input directory that allows to open the session again (both from jupyter and the standalone viewer app).\n",
    "Alternatively, the function can be used to prepare the directory and the viewer can be launched separately to modify the display options in jupyter as well as host ports etc.\n",
    "\n",
    "If the Jupyter viewer is too small (might be a problem on small monitors), the user can use the link (displayed if function is executed) to display TissUUmaps in the browser. "
   ]
  },
  {
   "cell_type": "markdown",
   "metadata": {},
   "source": [
    "# Testing "
   ]
  },
  {
   "cell_type": "code",
   "execution_count": 5,
   "metadata": {},
   "outputs": [],
   "source": [
    "import pathlib\n",
    "root_path = pathlib.Path(\"..\")\n",
    "data_path = root_path / 'data' # where the data is stored\n",
    "\n",
    "# where you want to store the output\n",
    "output_path = root_path / '_out'\n",
    "output_path.mkdir(exist_ok=True, parents=True)"
   ]
  },
  {
   "cell_type": "code",
   "execution_count": 6,
   "metadata": {},
   "outputs": [
    {
     "name": "stderr",
     "output_type": "stream",
     "text": [
      "/home/mgbckr/miniconda3/envs/spacec/lib/python3.10/site-packages/anndata/__init__.py:51: FutureWarning: `anndata.read` is deprecated, use `anndata.read_h5ad` instead. `ad.read` will be removed in mid 2024.\n",
      "  warnings.warn(\n"
     ]
    }
   ],
   "source": [
    "import scanpy as sc\n",
    "\n",
    "# Loading the denoise/filtered anndata from notebook 3 [cell type or cluster annotation is necessary for the step]\n",
    "adata = sc.read(output_path / \"adata_nn_demo_annotated_cn.h5ad\")"
   ]
  },
  {
   "cell_type": "code",
   "execution_count": 7,
   "metadata": {},
   "outputs": [
    {
     "data": {
      "text/html": [
       "<div>\n",
       "<style scoped>\n",
       "    .dataframe tbody tr th:only-of-type {\n",
       "        vertical-align: middle;\n",
       "    }\n",
       "\n",
       "    .dataframe tbody tr th {\n",
       "        vertical-align: top;\n",
       "    }\n",
       "\n",
       "    .dataframe thead th {\n",
       "        text-align: right;\n",
       "    }\n",
       "</style>\n",
       "<table border=\"1\" class=\"dataframe\">\n",
       "  <thead>\n",
       "    <tr style=\"text-align: right;\">\n",
       "      <th></th>\n",
       "      <th>DAPI</th>\n",
       "      <th>x</th>\n",
       "      <th>y</th>\n",
       "      <th>area</th>\n",
       "      <th>region_num</th>\n",
       "      <th>region</th>\n",
       "      <th>unique_region</th>\n",
       "      <th>condition</th>\n",
       "      <th>leiden_0.4</th>\n",
       "      <th>leiden_0.4_subcluster_0</th>\n",
       "      <th>leiden_0.4_subcluster_3</th>\n",
       "      <th>leiden_0.4_subcluster_4</th>\n",
       "      <th>celltype</th>\n",
       "      <th>leiden_0.4_subcluster_2</th>\n",
       "      <th>leiden_0.4_subcluster_11</th>\n",
       "      <th>leiden_0.4_subcluster_0sub</th>\n",
       "      <th>celltype_fine</th>\n",
       "      <th>CN_k20_n6</th>\n",
       "      <th>CN_k20_n6_annot</th>\n",
       "    </tr>\n",
       "  </thead>\n",
       "  <tbody>\n",
       "    <tr>\n",
       "      <th>0</th>\n",
       "      <td>86.372276</td>\n",
       "      <td>2159.0</td>\n",
       "      <td>615.0</td>\n",
       "      <td>74.0</td>\n",
       "      <td>0</td>\n",
       "      <td>10.0</td>\n",
       "      <td>reg010</td>\n",
       "      <td>tonsillitis</td>\n",
       "      <td>2</td>\n",
       "      <td>2</td>\n",
       "      <td>2</td>\n",
       "      <td>2</td>\n",
       "      <td>B</td>\n",
       "      <td>2,2</td>\n",
       "      <td>2,2</td>\n",
       "      <td>2,2</td>\n",
       "      <td>B</td>\n",
       "      <td>1</td>\n",
       "      <td>Parafollicular T cell Zone</td>\n",
       "    </tr>\n",
       "    <tr>\n",
       "      <th>1</th>\n",
       "      <td>67.217662</td>\n",
       "      <td>558.0</td>\n",
       "      <td>1027.0</td>\n",
       "      <td>68.0</td>\n",
       "      <td>0</td>\n",
       "      <td>10.0</td>\n",
       "      <td>reg010</td>\n",
       "      <td>tonsillitis</td>\n",
       "      <td>3</td>\n",
       "      <td>3</td>\n",
       "      <td>3,0</td>\n",
       "      <td>3,0</td>\n",
       "      <td>CD4T</td>\n",
       "      <td>3,0</td>\n",
       "      <td>3,0</td>\n",
       "      <td>3,0</td>\n",
       "      <td>CD4T</td>\n",
       "      <td>0</td>\n",
       "      <td>Immune Priming Zone</td>\n",
       "    </tr>\n",
       "    <tr>\n",
       "      <th>2</th>\n",
       "      <td>48.907490</td>\n",
       "      <td>1052.0</td>\n",
       "      <td>990.0</td>\n",
       "      <td>147.0</td>\n",
       "      <td>0</td>\n",
       "      <td>10.0</td>\n",
       "      <td>reg010</td>\n",
       "      <td>tonsillitis</td>\n",
       "      <td>5</td>\n",
       "      <td>5</td>\n",
       "      <td>5</td>\n",
       "      <td>5</td>\n",
       "      <td>GCB</td>\n",
       "      <td>5</td>\n",
       "      <td>5</td>\n",
       "      <td>5</td>\n",
       "      <td>GCB</td>\n",
       "      <td>3</td>\n",
       "      <td>Germinal center</td>\n",
       "    </tr>\n",
       "    <tr>\n",
       "      <th>3</th>\n",
       "      <td>70.925956</td>\n",
       "      <td>1008.0</td>\n",
       "      <td>2100.0</td>\n",
       "      <td>46.0</td>\n",
       "      <td>0</td>\n",
       "      <td>10.0</td>\n",
       "      <td>reg010</td>\n",
       "      <td>tonsillitis</td>\n",
       "      <td>3</td>\n",
       "      <td>3</td>\n",
       "      <td>3,0</td>\n",
       "      <td>3,0</td>\n",
       "      <td>CD4T</td>\n",
       "      <td>3,0</td>\n",
       "      <td>3,0</td>\n",
       "      <td>3,0</td>\n",
       "      <td>CD4T</td>\n",
       "      <td>0</td>\n",
       "      <td>Immune Priming Zone</td>\n",
       "    </tr>\n",
       "    <tr>\n",
       "      <th>4</th>\n",
       "      <td>94.387576</td>\n",
       "      <td>1330.0</td>\n",
       "      <td>1265.0</td>\n",
       "      <td>48.0</td>\n",
       "      <td>0</td>\n",
       "      <td>10.0</td>\n",
       "      <td>reg010</td>\n",
       "      <td>tonsillitis</td>\n",
       "      <td>2</td>\n",
       "      <td>2</td>\n",
       "      <td>2</td>\n",
       "      <td>2</td>\n",
       "      <td>B</td>\n",
       "      <td>2,0</td>\n",
       "      <td>2,0</td>\n",
       "      <td>2,0</td>\n",
       "      <td>B</td>\n",
       "      <td>1</td>\n",
       "      <td>Parafollicular T cell Zone</td>\n",
       "    </tr>\n",
       "  </tbody>\n",
       "</table>\n",
       "</div>"
      ],
      "text/plain": [
       "        DAPI       x       y   area region_num  region unique_region  \\\n",
       "0  86.372276  2159.0   615.0   74.0          0    10.0        reg010   \n",
       "1  67.217662   558.0  1027.0   68.0          0    10.0        reg010   \n",
       "2  48.907490  1052.0   990.0  147.0          0    10.0        reg010   \n",
       "3  70.925956  1008.0  2100.0   46.0          0    10.0        reg010   \n",
       "4  94.387576  1330.0  1265.0   48.0          0    10.0        reg010   \n",
       "\n",
       "     condition leiden_0.4 leiden_0.4_subcluster_0 leiden_0.4_subcluster_3  \\\n",
       "0  tonsillitis          2                       2                       2   \n",
       "1  tonsillitis          3                       3                     3,0   \n",
       "2  tonsillitis          5                       5                       5   \n",
       "3  tonsillitis          3                       3                     3,0   \n",
       "4  tonsillitis          2                       2                       2   \n",
       "\n",
       "  leiden_0.4_subcluster_4 celltype leiden_0.4_subcluster_2  \\\n",
       "0                       2        B                     2,2   \n",
       "1                     3,0     CD4T                     3,0   \n",
       "2                       5      GCB                       5   \n",
       "3                     3,0     CD4T                     3,0   \n",
       "4                       2        B                     2,0   \n",
       "\n",
       "  leiden_0.4_subcluster_11 leiden_0.4_subcluster_0sub celltype_fine  \\\n",
       "0                      2,2                        2,2             B   \n",
       "1                      3,0                        3,0          CD4T   \n",
       "2                        5                          5           GCB   \n",
       "3                      3,0                        3,0          CD4T   \n",
       "4                      2,0                        2,0             B   \n",
       "\n",
       "   CN_k20_n6             CN_k20_n6_annot  \n",
       "0          1  Parafollicular T cell Zone  \n",
       "1          0         Immune Priming Zone  \n",
       "2          3             Germinal center  \n",
       "3          0         Immune Priming Zone  \n",
       "4          1  Parafollicular T cell Zone  "
      ]
     },
     "execution_count": 7,
     "metadata": {},
     "output_type": "execute_result"
    }
   ],
   "source": [
    "adata.obs.head()"
   ]
  },
  {
   "cell_type": "markdown",
   "metadata": {},
   "source": [
    "## Integrated use"
   ]
  },
  {
   "cell_type": "code",
   "execution_count": 9,
   "metadata": {},
   "outputs": [
    {
     "name": "stdout",
     "output_type": "stream",
     "text": [
      "Preparing TissUUmaps input...\n",
      "Opening TissUUmaps viewer...\n",
      "Creating project file /tmp/tm_prepare_input/cache/reg010/reg010_project.tmap\n",
      "Loading url:  http://localhost:5100/reg010_project.tmap?path=tmp/tm_prepare_input/cache/reg010\n"
     ]
    },
    {
     "data": {
      "text/html": [
       "<iframe src=\"http://localhost:5100/reg010_project.tmap?path=tmp/tm_prepare_input/cache/reg010\" style=\"width: 100%; height: 900px; border: none\" id=\"tissUUmapsViewer_32c5fdaeb9\" allowfullscreen></iframe>"
      ],
      "text/plain": [
       "<IPython.core.display.HTML object>"
      ]
     },
     "metadata": {},
     "output_type": "display_data"
    }
   ],
   "source": [
    "image_list, csv_paths = tm_prepare_input(\n",
    "    adata,\n",
    "    images_pickle_path= output_path / 'seg_output_tonsil1.pickle',\n",
    "    directory = \"/tmp/tm_prepare_input/cache\",\n",
    "    region_column = \"unique_region\",\n",
    "    region = \"reg010\",\n",
    "    xSelector = \"x\",\n",
    "    ySelector = \"y\",\n",
    "    color_by = \"celltype\",\n",
    "    keep_list = None,\n",
    "    open_viewer=True)"
   ]
  },
  {
   "cell_type": "markdown",
   "metadata": {},
   "source": [
    "## Open TM viewer separate from preparing the data"
   ]
  },
  {
   "cell_type": "code",
   "execution_count": 49,
   "metadata": {},
   "outputs": [],
   "source": [
    "xSelector = \"x\"\n",
    "ySelector = \"y\"\n",
    "color_by = \"celltype\""
   ]
  },
  {
   "cell_type": "code",
   "execution_count": 50,
   "metadata": {},
   "outputs": [
    {
     "name": "stdout",
     "output_type": "stream",
     "text": [
      "Preparing TissUUmaps input...\n"
     ]
    }
   ],
   "source": [
    "image_list, csv_paths = tm_prepare_input(\n",
    "    adata,\n",
    "    images_pickle_path= '/Volumes/Tim_D260/GitHub/SAP_20231217/output/seg_output_tonsil1.pickle',\n",
    "    directory = \"/Volumes/Tim_D260/Test_dir\",\n",
    "    region_column = \"unique_region\",\n",
    "    region = \"reg010\",\n",
    "    xSelector = xSelector,\n",
    "    ySelector = ySelector,\n",
    "    color_by = color_by,\n",
    "    keep_list = None,\n",
    "    open_viewer=False)"
   ]
  },
  {
   "cell_type": "code",
   "execution_count": 51,
   "metadata": {},
   "outputs": [
    {
     "name": "stdout",
     "output_type": "stream",
     "text": [
      "Creating project file /Volumes/Tim_D260/Test_dir/reg010/_project.tmap\n",
      "Loading url:  http://localhost:5100/_project.tmap?path=Volumes/Tim_D260/Test_dir/reg010\n"
     ]
    },
    {
     "data": {
      "text/html": [
       "<iframe src=\"http://localhost:5100/_project.tmap?path=Volumes/Tim_D260/Test_dir/reg010\" style=\"width: 100%; height: 900px; border: none\" id=\"tissUUmapsViewer_afaa92aca9\" allowfullscreen></iframe>"
      ],
      "text/plain": [
       "<IPython.core.display.HTML object>"
      ]
     },
     "metadata": {},
     "output_type": "display_data"
    },
    {
     "data": {
      "text/plain": [
       "<tissuumaps.jupyter.TissUUmapsViewer at 0x13f8fa0a0>"
      ]
     },
     "execution_count": 51,
     "metadata": {},
     "output_type": "execute_result"
    }
   ],
   "source": [
    "tj.loaddata(\n",
    "    images=image_list, \n",
    "    csvFiles=csv_paths, \n",
    "    xSelector=xSelector, ySelector=ySelector, \n",
    "    keySelector=None, \n",
    "    nameSelector=None, \n",
    "    colorSelector=color_by, \n",
    "    piechartSelector=None, \n",
    "    shapeSelector=None, \n",
    "    scaleSelector=None, \n",
    "    fixedShape=None, \n",
    "    scaleFactor=1, \n",
    "    colormap=None, \n",
    "    compositeMode='source-over', \n",
    "    boundingBox=None, \n",
    "    port=5100, \n",
    "    host='localhost', \n",
    "    height=900, \n",
    "    tmapFilename='_project', \n",
    "    plugins=[\"Plot_Histogram\", \"Points2Regions\", \"Spot_Inspector\", \"Feature_Space\", \"ClassQC\"])"
   ]
  }
 ],
 "metadata": {
  "kernelspec": {
   "display_name": "spacec",
   "language": "python",
   "name": "spacec"
  },
  "language_info": {
   "codemirror_mode": {
    "name": "ipython",
    "version": 3
   },
   "file_extension": ".py",
   "mimetype": "text/x-python",
   "name": "python",
   "nbconvert_exporter": "python",
   "pygments_lexer": "ipython3",
   "version": "3.10.13"
  }
 },
 "nbformat": 4,
 "nbformat_minor": 4
}
